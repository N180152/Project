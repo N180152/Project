{
  "nbformat": 4,
  "nbformat_minor": 0,
  "metadata": {
    "colab": {
      "provenance": []
    },
    "kernelspec": {
      "name": "python3",
      "display_name": "Python 3"
    },
    "language_info": {
      "name": "python"
    }
  },
  "cells": [
    {
      "cell_type": "code",
      "execution_count": 3,
      "metadata": {
        "colab": {
          "base_uri": "https://localhost:8080/",
          "height": 644
        },
        "id": "kxBNYCidQGXn",
        "outputId": "4808d41c-94eb-4c74-f01b-def8f3acd154"
      },
      "outputs": [
        {
          "output_type": "execute_result",
          "data": {
            "text/plain": [
              "      SUMLEV  REGION  DIVISION  STATE  COUNTY   STNAME            CTYNAME  \\\n",
              "0         40       3         6      1       0  Alabama            Alabama   \n",
              "1         50       3         6      1       1  Alabama     Autauga County   \n",
              "2         50       3         6      1       3  Alabama     Baldwin County   \n",
              "3         50       3         6      1       5  Alabama     Barbour County   \n",
              "4         50       3         6      1       7  Alabama        Bibb County   \n",
              "...      ...     ...       ...    ...     ...      ...                ...   \n",
              "3188      50       4         8     56      37  Wyoming  Sweetwater County   \n",
              "3189      50       4         8     56      39  Wyoming       Teton County   \n",
              "3190      50       4         8     56      41  Wyoming       Uinta County   \n",
              "3191      50       4         8     56      43  Wyoming    Washakie County   \n",
              "3192      50       4         8     56      45  Wyoming      Weston County   \n",
              "\n",
              "      CENSUS2010POP  ESTIMATESBASE2010  POPESTIMATE2010  ...  \\\n",
              "0           4779736            4780127          4785161  ...   \n",
              "1             54571              54571            54660  ...   \n",
              "2            182265             182265           183193  ...   \n",
              "3             27457              27457            27341  ...   \n",
              "4             22915              22919            22861  ...   \n",
              "...             ...                ...              ...  ...   \n",
              "3188          43806              43806            43593  ...   \n",
              "3189          21294              21294            21297  ...   \n",
              "3190          21118              21118            21102  ...   \n",
              "3191           8533               8533             8545  ...   \n",
              "3192           7208               7208             7181  ...   \n",
              "\n",
              "      RDOMESTICMIG2011  RDOMESTICMIG2012  RDOMESTICMIG2013  RDOMESTICMIG2014  \\\n",
              "0             0.002295         -0.193196          0.381066          0.582002   \n",
              "1             7.242091         -2.915927         -3.012349          2.265971   \n",
              "2            14.832960         17.647293         21.845705         19.243287   \n",
              "3            -4.728132         -2.500690         -7.056824         -3.904217   \n",
              "4            -5.527043         -5.068871         -6.201001         -0.177537   \n",
              "...                ...               ...               ...               ...   \n",
              "3188          1.072643         16.243199         -5.339774        -14.252889   \n",
              "3189         -1.589565          0.972695         19.525929         14.143021   \n",
              "3190        -17.755986         -4.916350         -6.902954        -14.215862   \n",
              "3191        -11.637475         -0.827815         -2.013502        -17.781491   \n",
              "3192        -11.752361         -8.040059         12.372583          1.533635   \n",
              "\n",
              "      RDOMESTICMIG2015  RNETMIG2011  RNETMIG2012  RNETMIG2013  RNETMIG2014  \\\n",
              "0            -0.467369     1.030015     0.826644     1.383282     1.724718   \n",
              "1            -2.530799     7.606016    -2.626146    -2.722002     2.592270   \n",
              "2            17.197872    15.844176    18.559627    22.727626    20.317142   \n",
              "3           -10.543299    -4.874741    -2.758113    -7.167664    -3.978583   \n",
              "4             0.177258    -5.088389    -4.363636    -5.403729     0.754533   \n",
              "...                ...          ...          ...          ...          ...   \n",
              "3188        -14.248864     1.255221    16.243199    -5.295460   -14.075283   \n",
              "3189         -0.564849     0.654527     2.408578    21.160658    16.308671   \n",
              "3190        -12.127022   -18.136812    -5.536861    -7.521840   -14.740608   \n",
              "3191          1.682288   -11.990126    -1.182592    -2.250385   -18.020168   \n",
              "3192          6.935294   -12.032179    -8.040059    12.372583     1.533635   \n",
              "\n",
              "      RNETMIG2015  \n",
              "0        0.712594  \n",
              "1       -2.187333  \n",
              "2       18.293499  \n",
              "3      -10.543299  \n",
              "4        1.107861  \n",
              "...           ...  \n",
              "3188   -14.070195  \n",
              "3189     1.520747  \n",
              "3190   -12.606351  \n",
              "3191     1.441961  \n",
              "3192     6.935294  \n",
              "\n",
              "[3193 rows x 100 columns]"
            ],
            "text/html": [
              "\n",
              "  <div id=\"df-5b537e7b-08ce-4561-89a9-26997f0b548e\">\n",
              "    <div class=\"colab-df-container\">\n",
              "      <div>\n",
              "<style scoped>\n",
              "    .dataframe tbody tr th:only-of-type {\n",
              "        vertical-align: middle;\n",
              "    }\n",
              "\n",
              "    .dataframe tbody tr th {\n",
              "        vertical-align: top;\n",
              "    }\n",
              "\n",
              "    .dataframe thead th {\n",
              "        text-align: right;\n",
              "    }\n",
              "</style>\n",
              "<table border=\"1\" class=\"dataframe\">\n",
              "  <thead>\n",
              "    <tr style=\"text-align: right;\">\n",
              "      <th></th>\n",
              "      <th>SUMLEV</th>\n",
              "      <th>REGION</th>\n",
              "      <th>DIVISION</th>\n",
              "      <th>STATE</th>\n",
              "      <th>COUNTY</th>\n",
              "      <th>STNAME</th>\n",
              "      <th>CTYNAME</th>\n",
              "      <th>CENSUS2010POP</th>\n",
              "      <th>ESTIMATESBASE2010</th>\n",
              "      <th>POPESTIMATE2010</th>\n",
              "      <th>...</th>\n",
              "      <th>RDOMESTICMIG2011</th>\n",
              "      <th>RDOMESTICMIG2012</th>\n",
              "      <th>RDOMESTICMIG2013</th>\n",
              "      <th>RDOMESTICMIG2014</th>\n",
              "      <th>RDOMESTICMIG2015</th>\n",
              "      <th>RNETMIG2011</th>\n",
              "      <th>RNETMIG2012</th>\n",
              "      <th>RNETMIG2013</th>\n",
              "      <th>RNETMIG2014</th>\n",
              "      <th>RNETMIG2015</th>\n",
              "    </tr>\n",
              "  </thead>\n",
              "  <tbody>\n",
              "    <tr>\n",
              "      <th>0</th>\n",
              "      <td>40</td>\n",
              "      <td>3</td>\n",
              "      <td>6</td>\n",
              "      <td>1</td>\n",
              "      <td>0</td>\n",
              "      <td>Alabama</td>\n",
              "      <td>Alabama</td>\n",
              "      <td>4779736</td>\n",
              "      <td>4780127</td>\n",
              "      <td>4785161</td>\n",
              "      <td>...</td>\n",
              "      <td>0.002295</td>\n",
              "      <td>-0.193196</td>\n",
              "      <td>0.381066</td>\n",
              "      <td>0.582002</td>\n",
              "      <td>-0.467369</td>\n",
              "      <td>1.030015</td>\n",
              "      <td>0.826644</td>\n",
              "      <td>1.383282</td>\n",
              "      <td>1.724718</td>\n",
              "      <td>0.712594</td>\n",
              "    </tr>\n",
              "    <tr>\n",
              "      <th>1</th>\n",
              "      <td>50</td>\n",
              "      <td>3</td>\n",
              "      <td>6</td>\n",
              "      <td>1</td>\n",
              "      <td>1</td>\n",
              "      <td>Alabama</td>\n",
              "      <td>Autauga County</td>\n",
              "      <td>54571</td>\n",
              "      <td>54571</td>\n",
              "      <td>54660</td>\n",
              "      <td>...</td>\n",
              "      <td>7.242091</td>\n",
              "      <td>-2.915927</td>\n",
              "      <td>-3.012349</td>\n",
              "      <td>2.265971</td>\n",
              "      <td>-2.530799</td>\n",
              "      <td>7.606016</td>\n",
              "      <td>-2.626146</td>\n",
              "      <td>-2.722002</td>\n",
              "      <td>2.592270</td>\n",
              "      <td>-2.187333</td>\n",
              "    </tr>\n",
              "    <tr>\n",
              "      <th>2</th>\n",
              "      <td>50</td>\n",
              "      <td>3</td>\n",
              "      <td>6</td>\n",
              "      <td>1</td>\n",
              "      <td>3</td>\n",
              "      <td>Alabama</td>\n",
              "      <td>Baldwin County</td>\n",
              "      <td>182265</td>\n",
              "      <td>182265</td>\n",
              "      <td>183193</td>\n",
              "      <td>...</td>\n",
              "      <td>14.832960</td>\n",
              "      <td>17.647293</td>\n",
              "      <td>21.845705</td>\n",
              "      <td>19.243287</td>\n",
              "      <td>17.197872</td>\n",
              "      <td>15.844176</td>\n",
              "      <td>18.559627</td>\n",
              "      <td>22.727626</td>\n",
              "      <td>20.317142</td>\n",
              "      <td>18.293499</td>\n",
              "    </tr>\n",
              "    <tr>\n",
              "      <th>3</th>\n",
              "      <td>50</td>\n",
              "      <td>3</td>\n",
              "      <td>6</td>\n",
              "      <td>1</td>\n",
              "      <td>5</td>\n",
              "      <td>Alabama</td>\n",
              "      <td>Barbour County</td>\n",
              "      <td>27457</td>\n",
              "      <td>27457</td>\n",
              "      <td>27341</td>\n",
              "      <td>...</td>\n",
              "      <td>-4.728132</td>\n",
              "      <td>-2.500690</td>\n",
              "      <td>-7.056824</td>\n",
              "      <td>-3.904217</td>\n",
              "      <td>-10.543299</td>\n",
              "      <td>-4.874741</td>\n",
              "      <td>-2.758113</td>\n",
              "      <td>-7.167664</td>\n",
              "      <td>-3.978583</td>\n",
              "      <td>-10.543299</td>\n",
              "    </tr>\n",
              "    <tr>\n",
              "      <th>4</th>\n",
              "      <td>50</td>\n",
              "      <td>3</td>\n",
              "      <td>6</td>\n",
              "      <td>1</td>\n",
              "      <td>7</td>\n",
              "      <td>Alabama</td>\n",
              "      <td>Bibb County</td>\n",
              "      <td>22915</td>\n",
              "      <td>22919</td>\n",
              "      <td>22861</td>\n",
              "      <td>...</td>\n",
              "      <td>-5.527043</td>\n",
              "      <td>-5.068871</td>\n",
              "      <td>-6.201001</td>\n",
              "      <td>-0.177537</td>\n",
              "      <td>0.177258</td>\n",
              "      <td>-5.088389</td>\n",
              "      <td>-4.363636</td>\n",
              "      <td>-5.403729</td>\n",
              "      <td>0.754533</td>\n",
              "      <td>1.107861</td>\n",
              "    </tr>\n",
              "    <tr>\n",
              "      <th>...</th>\n",
              "      <td>...</td>\n",
              "      <td>...</td>\n",
              "      <td>...</td>\n",
              "      <td>...</td>\n",
              "      <td>...</td>\n",
              "      <td>...</td>\n",
              "      <td>...</td>\n",
              "      <td>...</td>\n",
              "      <td>...</td>\n",
              "      <td>...</td>\n",
              "      <td>...</td>\n",
              "      <td>...</td>\n",
              "      <td>...</td>\n",
              "      <td>...</td>\n",
              "      <td>...</td>\n",
              "      <td>...</td>\n",
              "      <td>...</td>\n",
              "      <td>...</td>\n",
              "      <td>...</td>\n",
              "      <td>...</td>\n",
              "      <td>...</td>\n",
              "    </tr>\n",
              "    <tr>\n",
              "      <th>3188</th>\n",
              "      <td>50</td>\n",
              "      <td>4</td>\n",
              "      <td>8</td>\n",
              "      <td>56</td>\n",
              "      <td>37</td>\n",
              "      <td>Wyoming</td>\n",
              "      <td>Sweetwater County</td>\n",
              "      <td>43806</td>\n",
              "      <td>43806</td>\n",
              "      <td>43593</td>\n",
              "      <td>...</td>\n",
              "      <td>1.072643</td>\n",
              "      <td>16.243199</td>\n",
              "      <td>-5.339774</td>\n",
              "      <td>-14.252889</td>\n",
              "      <td>-14.248864</td>\n",
              "      <td>1.255221</td>\n",
              "      <td>16.243199</td>\n",
              "      <td>-5.295460</td>\n",
              "      <td>-14.075283</td>\n",
              "      <td>-14.070195</td>\n",
              "    </tr>\n",
              "    <tr>\n",
              "      <th>3189</th>\n",
              "      <td>50</td>\n",
              "      <td>4</td>\n",
              "      <td>8</td>\n",
              "      <td>56</td>\n",
              "      <td>39</td>\n",
              "      <td>Wyoming</td>\n",
              "      <td>Teton County</td>\n",
              "      <td>21294</td>\n",
              "      <td>21294</td>\n",
              "      <td>21297</td>\n",
              "      <td>...</td>\n",
              "      <td>-1.589565</td>\n",
              "      <td>0.972695</td>\n",
              "      <td>19.525929</td>\n",
              "      <td>14.143021</td>\n",
              "      <td>-0.564849</td>\n",
              "      <td>0.654527</td>\n",
              "      <td>2.408578</td>\n",
              "      <td>21.160658</td>\n",
              "      <td>16.308671</td>\n",
              "      <td>1.520747</td>\n",
              "    </tr>\n",
              "    <tr>\n",
              "      <th>3190</th>\n",
              "      <td>50</td>\n",
              "      <td>4</td>\n",
              "      <td>8</td>\n",
              "      <td>56</td>\n",
              "      <td>41</td>\n",
              "      <td>Wyoming</td>\n",
              "      <td>Uinta County</td>\n",
              "      <td>21118</td>\n",
              "      <td>21118</td>\n",
              "      <td>21102</td>\n",
              "      <td>...</td>\n",
              "      <td>-17.755986</td>\n",
              "      <td>-4.916350</td>\n",
              "      <td>-6.902954</td>\n",
              "      <td>-14.215862</td>\n",
              "      <td>-12.127022</td>\n",
              "      <td>-18.136812</td>\n",
              "      <td>-5.536861</td>\n",
              "      <td>-7.521840</td>\n",
              "      <td>-14.740608</td>\n",
              "      <td>-12.606351</td>\n",
              "    </tr>\n",
              "    <tr>\n",
              "      <th>3191</th>\n",
              "      <td>50</td>\n",
              "      <td>4</td>\n",
              "      <td>8</td>\n",
              "      <td>56</td>\n",
              "      <td>43</td>\n",
              "      <td>Wyoming</td>\n",
              "      <td>Washakie County</td>\n",
              "      <td>8533</td>\n",
              "      <td>8533</td>\n",
              "      <td>8545</td>\n",
              "      <td>...</td>\n",
              "      <td>-11.637475</td>\n",
              "      <td>-0.827815</td>\n",
              "      <td>-2.013502</td>\n",
              "      <td>-17.781491</td>\n",
              "      <td>1.682288</td>\n",
              "      <td>-11.990126</td>\n",
              "      <td>-1.182592</td>\n",
              "      <td>-2.250385</td>\n",
              "      <td>-18.020168</td>\n",
              "      <td>1.441961</td>\n",
              "    </tr>\n",
              "    <tr>\n",
              "      <th>3192</th>\n",
              "      <td>50</td>\n",
              "      <td>4</td>\n",
              "      <td>8</td>\n",
              "      <td>56</td>\n",
              "      <td>45</td>\n",
              "      <td>Wyoming</td>\n",
              "      <td>Weston County</td>\n",
              "      <td>7208</td>\n",
              "      <td>7208</td>\n",
              "      <td>7181</td>\n",
              "      <td>...</td>\n",
              "      <td>-11.752361</td>\n",
              "      <td>-8.040059</td>\n",
              "      <td>12.372583</td>\n",
              "      <td>1.533635</td>\n",
              "      <td>6.935294</td>\n",
              "      <td>-12.032179</td>\n",
              "      <td>-8.040059</td>\n",
              "      <td>12.372583</td>\n",
              "      <td>1.533635</td>\n",
              "      <td>6.935294</td>\n",
              "    </tr>\n",
              "  </tbody>\n",
              "</table>\n",
              "<p>3193 rows × 100 columns</p>\n",
              "</div>\n",
              "      <button class=\"colab-df-convert\" onclick=\"convertToInteractive('df-5b537e7b-08ce-4561-89a9-26997f0b548e')\"\n",
              "              title=\"Convert this dataframe to an interactive table.\"\n",
              "              style=\"display:none;\">\n",
              "        \n",
              "  <svg xmlns=\"http://www.w3.org/2000/svg\" height=\"24px\"viewBox=\"0 0 24 24\"\n",
              "       width=\"24px\">\n",
              "    <path d=\"M0 0h24v24H0V0z\" fill=\"none\"/>\n",
              "    <path d=\"M18.56 5.44l.94 2.06.94-2.06 2.06-.94-2.06-.94-.94-2.06-.94 2.06-2.06.94zm-11 1L8.5 8.5l.94-2.06 2.06-.94-2.06-.94L8.5 2.5l-.94 2.06-2.06.94zm10 10l.94 2.06.94-2.06 2.06-.94-2.06-.94-.94-2.06-.94 2.06-2.06.94z\"/><path d=\"M17.41 7.96l-1.37-1.37c-.4-.4-.92-.59-1.43-.59-.52 0-1.04.2-1.43.59L10.3 9.45l-7.72 7.72c-.78.78-.78 2.05 0 2.83L4 21.41c.39.39.9.59 1.41.59.51 0 1.02-.2 1.41-.59l7.78-7.78 2.81-2.81c.8-.78.8-2.07 0-2.86zM5.41 20L4 18.59l7.72-7.72 1.47 1.35L5.41 20z\"/>\n",
              "  </svg>\n",
              "      </button>\n",
              "      \n",
              "  <style>\n",
              "    .colab-df-container {\n",
              "      display:flex;\n",
              "      flex-wrap:wrap;\n",
              "      gap: 12px;\n",
              "    }\n",
              "\n",
              "    .colab-df-convert {\n",
              "      background-color: #E8F0FE;\n",
              "      border: none;\n",
              "      border-radius: 50%;\n",
              "      cursor: pointer;\n",
              "      display: none;\n",
              "      fill: #1967D2;\n",
              "      height: 32px;\n",
              "      padding: 0 0 0 0;\n",
              "      width: 32px;\n",
              "    }\n",
              "\n",
              "    .colab-df-convert:hover {\n",
              "      background-color: #E2EBFA;\n",
              "      box-shadow: 0px 1px 2px rgba(60, 64, 67, 0.3), 0px 1px 3px 1px rgba(60, 64, 67, 0.15);\n",
              "      fill: #174EA6;\n",
              "    }\n",
              "\n",
              "    [theme=dark] .colab-df-convert {\n",
              "      background-color: #3B4455;\n",
              "      fill: #D2E3FC;\n",
              "    }\n",
              "\n",
              "    [theme=dark] .colab-df-convert:hover {\n",
              "      background-color: #434B5C;\n",
              "      box-shadow: 0px 1px 3px 1px rgba(0, 0, 0, 0.15);\n",
              "      filter: drop-shadow(0px 1px 2px rgba(0, 0, 0, 0.3));\n",
              "      fill: #FFFFFF;\n",
              "    }\n",
              "  </style>\n",
              "\n",
              "      <script>\n",
              "        const buttonEl =\n",
              "          document.querySelector('#df-5b537e7b-08ce-4561-89a9-26997f0b548e button.colab-df-convert');\n",
              "        buttonEl.style.display =\n",
              "          google.colab.kernel.accessAllowed ? 'block' : 'none';\n",
              "\n",
              "        async function convertToInteractive(key) {\n",
              "          const element = document.querySelector('#df-5b537e7b-08ce-4561-89a9-26997f0b548e');\n",
              "          const dataTable =\n",
              "            await google.colab.kernel.invokeFunction('convertToInteractive',\n",
              "                                                     [key], {});\n",
              "          if (!dataTable) return;\n",
              "\n",
              "          const docLinkHtml = 'Like what you see? Visit the ' +\n",
              "            '<a target=\"_blank\" href=https://colab.research.google.com/notebooks/data_table.ipynb>data table notebook</a>'\n",
              "            + ' to learn more about interactive tables.';\n",
              "          element.innerHTML = '';\n",
              "          dataTable['output_type'] = 'display_data';\n",
              "          await google.colab.output.renderOutput(dataTable, element);\n",
              "          const docLink = document.createElement('div');\n",
              "          docLink.innerHTML = docLinkHtml;\n",
              "          element.appendChild(docLink);\n",
              "        }\n",
              "      </script>\n",
              "    </div>\n",
              "  </div>\n",
              "  "
            ]
          },
          "metadata": {},
          "execution_count": 3
        }
      ],
      "source": [
        "import pandas as pd\n",
        "df=pd.read_csv('/content/census.csv')\n",
        "df"
      ]
    },
    {
      "cell_type": "code",
      "source": [
        "df.nunique()\n",
        "df.isnull().sum()\n",
        "df=df.dropna()\n",
        "df.isnull().sum()\n"
      ],
      "metadata": {
        "colab": {
          "base_uri": "https://localhost:8080/"
        },
        "id": "ZXCprYgLUoml",
        "outputId": "0e9f0d4f-111e-4430-bb12-24644ecc3d50"
      },
      "execution_count": 5,
      "outputs": [
        {
          "output_type": "execute_result",
          "data": {
            "text/plain": [
              "SUMLEV         0\n",
              "REGION         0\n",
              "DIVISION       0\n",
              "STATE          0\n",
              "COUNTY         0\n",
              "              ..\n",
              "RNETMIG2011    0\n",
              "RNETMIG2012    0\n",
              "RNETMIG2013    0\n",
              "RNETMIG2014    0\n",
              "RNETMIG2015    0\n",
              "Length: 100, dtype: int64"
            ]
          },
          "metadata": {},
          "execution_count": 5
        }
      ]
    },
    {
      "cell_type": "code",
      "source": [
        "df"
      ],
      "metadata": {
        "colab": {
          "base_uri": "https://localhost:8080/",
          "height": 644
        },
        "id": "utCVYwbiVBxQ",
        "outputId": "c24e4402-873e-4930-f957-f3d711ac475a"
      },
      "execution_count": 6,
      "outputs": [
        {
          "output_type": "execute_result",
          "data": {
            "text/plain": [
              "      SUMLEV  REGION  DIVISION  STATE  COUNTY   STNAME            CTYNAME  \\\n",
              "0         40       3         6      1       0  Alabama            Alabama   \n",
              "1         50       3         6      1       1  Alabama     Autauga County   \n",
              "2         50       3         6      1       3  Alabama     Baldwin County   \n",
              "3         50       3         6      1       5  Alabama     Barbour County   \n",
              "4         50       3         6      1       7  Alabama        Bibb County   \n",
              "...      ...     ...       ...    ...     ...      ...                ...   \n",
              "3188      50       4         8     56      37  Wyoming  Sweetwater County   \n",
              "3189      50       4         8     56      39  Wyoming       Teton County   \n",
              "3190      50       4         8     56      41  Wyoming       Uinta County   \n",
              "3191      50       4         8     56      43  Wyoming    Washakie County   \n",
              "3192      50       4         8     56      45  Wyoming      Weston County   \n",
              "\n",
              "      CENSUS2010POP  ESTIMATESBASE2010  POPESTIMATE2010  ...  \\\n",
              "0           4779736            4780127          4785161  ...   \n",
              "1             54571              54571            54660  ...   \n",
              "2            182265             182265           183193  ...   \n",
              "3             27457              27457            27341  ...   \n",
              "4             22915              22919            22861  ...   \n",
              "...             ...                ...              ...  ...   \n",
              "3188          43806              43806            43593  ...   \n",
              "3189          21294              21294            21297  ...   \n",
              "3190          21118              21118            21102  ...   \n",
              "3191           8533               8533             8545  ...   \n",
              "3192           7208               7208             7181  ...   \n",
              "\n",
              "      RDOMESTICMIG2011  RDOMESTICMIG2012  RDOMESTICMIG2013  RDOMESTICMIG2014  \\\n",
              "0             0.002295         -0.193196          0.381066          0.582002   \n",
              "1             7.242091         -2.915927         -3.012349          2.265971   \n",
              "2            14.832960         17.647293         21.845705         19.243287   \n",
              "3            -4.728132         -2.500690         -7.056824         -3.904217   \n",
              "4            -5.527043         -5.068871         -6.201001         -0.177537   \n",
              "...                ...               ...               ...               ...   \n",
              "3188          1.072643         16.243199         -5.339774        -14.252889   \n",
              "3189         -1.589565          0.972695         19.525929         14.143021   \n",
              "3190        -17.755986         -4.916350         -6.902954        -14.215862   \n",
              "3191        -11.637475         -0.827815         -2.013502        -17.781491   \n",
              "3192        -11.752361         -8.040059         12.372583          1.533635   \n",
              "\n",
              "      RDOMESTICMIG2015  RNETMIG2011  RNETMIG2012  RNETMIG2013  RNETMIG2014  \\\n",
              "0            -0.467369     1.030015     0.826644     1.383282     1.724718   \n",
              "1            -2.530799     7.606016    -2.626146    -2.722002     2.592270   \n",
              "2            17.197872    15.844176    18.559627    22.727626    20.317142   \n",
              "3           -10.543299    -4.874741    -2.758113    -7.167664    -3.978583   \n",
              "4             0.177258    -5.088389    -4.363636    -5.403729     0.754533   \n",
              "...                ...          ...          ...          ...          ...   \n",
              "3188        -14.248864     1.255221    16.243199    -5.295460   -14.075283   \n",
              "3189         -0.564849     0.654527     2.408578    21.160658    16.308671   \n",
              "3190        -12.127022   -18.136812    -5.536861    -7.521840   -14.740608   \n",
              "3191          1.682288   -11.990126    -1.182592    -2.250385   -18.020168   \n",
              "3192          6.935294   -12.032179    -8.040059    12.372583     1.533635   \n",
              "\n",
              "      RNETMIG2015  \n",
              "0        0.712594  \n",
              "1       -2.187333  \n",
              "2       18.293499  \n",
              "3      -10.543299  \n",
              "4        1.107861  \n",
              "...           ...  \n",
              "3188   -14.070195  \n",
              "3189     1.520747  \n",
              "3190   -12.606351  \n",
              "3191     1.441961  \n",
              "3192     6.935294  \n",
              "\n",
              "[3193 rows x 100 columns]"
            ],
            "text/html": [
              "\n",
              "  <div id=\"df-4c7db18d-9433-44f6-821f-122ace932707\">\n",
              "    <div class=\"colab-df-container\">\n",
              "      <div>\n",
              "<style scoped>\n",
              "    .dataframe tbody tr th:only-of-type {\n",
              "        vertical-align: middle;\n",
              "    }\n",
              "\n",
              "    .dataframe tbody tr th {\n",
              "        vertical-align: top;\n",
              "    }\n",
              "\n",
              "    .dataframe thead th {\n",
              "        text-align: right;\n",
              "    }\n",
              "</style>\n",
              "<table border=\"1\" class=\"dataframe\">\n",
              "  <thead>\n",
              "    <tr style=\"text-align: right;\">\n",
              "      <th></th>\n",
              "      <th>SUMLEV</th>\n",
              "      <th>REGION</th>\n",
              "      <th>DIVISION</th>\n",
              "      <th>STATE</th>\n",
              "      <th>COUNTY</th>\n",
              "      <th>STNAME</th>\n",
              "      <th>CTYNAME</th>\n",
              "      <th>CENSUS2010POP</th>\n",
              "      <th>ESTIMATESBASE2010</th>\n",
              "      <th>POPESTIMATE2010</th>\n",
              "      <th>...</th>\n",
              "      <th>RDOMESTICMIG2011</th>\n",
              "      <th>RDOMESTICMIG2012</th>\n",
              "      <th>RDOMESTICMIG2013</th>\n",
              "      <th>RDOMESTICMIG2014</th>\n",
              "      <th>RDOMESTICMIG2015</th>\n",
              "      <th>RNETMIG2011</th>\n",
              "      <th>RNETMIG2012</th>\n",
              "      <th>RNETMIG2013</th>\n",
              "      <th>RNETMIG2014</th>\n",
              "      <th>RNETMIG2015</th>\n",
              "    </tr>\n",
              "  </thead>\n",
              "  <tbody>\n",
              "    <tr>\n",
              "      <th>0</th>\n",
              "      <td>40</td>\n",
              "      <td>3</td>\n",
              "      <td>6</td>\n",
              "      <td>1</td>\n",
              "      <td>0</td>\n",
              "      <td>Alabama</td>\n",
              "      <td>Alabama</td>\n",
              "      <td>4779736</td>\n",
              "      <td>4780127</td>\n",
              "      <td>4785161</td>\n",
              "      <td>...</td>\n",
              "      <td>0.002295</td>\n",
              "      <td>-0.193196</td>\n",
              "      <td>0.381066</td>\n",
              "      <td>0.582002</td>\n",
              "      <td>-0.467369</td>\n",
              "      <td>1.030015</td>\n",
              "      <td>0.826644</td>\n",
              "      <td>1.383282</td>\n",
              "      <td>1.724718</td>\n",
              "      <td>0.712594</td>\n",
              "    </tr>\n",
              "    <tr>\n",
              "      <th>1</th>\n",
              "      <td>50</td>\n",
              "      <td>3</td>\n",
              "      <td>6</td>\n",
              "      <td>1</td>\n",
              "      <td>1</td>\n",
              "      <td>Alabama</td>\n",
              "      <td>Autauga County</td>\n",
              "      <td>54571</td>\n",
              "      <td>54571</td>\n",
              "      <td>54660</td>\n",
              "      <td>...</td>\n",
              "      <td>7.242091</td>\n",
              "      <td>-2.915927</td>\n",
              "      <td>-3.012349</td>\n",
              "      <td>2.265971</td>\n",
              "      <td>-2.530799</td>\n",
              "      <td>7.606016</td>\n",
              "      <td>-2.626146</td>\n",
              "      <td>-2.722002</td>\n",
              "      <td>2.592270</td>\n",
              "      <td>-2.187333</td>\n",
              "    </tr>\n",
              "    <tr>\n",
              "      <th>2</th>\n",
              "      <td>50</td>\n",
              "      <td>3</td>\n",
              "      <td>6</td>\n",
              "      <td>1</td>\n",
              "      <td>3</td>\n",
              "      <td>Alabama</td>\n",
              "      <td>Baldwin County</td>\n",
              "      <td>182265</td>\n",
              "      <td>182265</td>\n",
              "      <td>183193</td>\n",
              "      <td>...</td>\n",
              "      <td>14.832960</td>\n",
              "      <td>17.647293</td>\n",
              "      <td>21.845705</td>\n",
              "      <td>19.243287</td>\n",
              "      <td>17.197872</td>\n",
              "      <td>15.844176</td>\n",
              "      <td>18.559627</td>\n",
              "      <td>22.727626</td>\n",
              "      <td>20.317142</td>\n",
              "      <td>18.293499</td>\n",
              "    </tr>\n",
              "    <tr>\n",
              "      <th>3</th>\n",
              "      <td>50</td>\n",
              "      <td>3</td>\n",
              "      <td>6</td>\n",
              "      <td>1</td>\n",
              "      <td>5</td>\n",
              "      <td>Alabama</td>\n",
              "      <td>Barbour County</td>\n",
              "      <td>27457</td>\n",
              "      <td>27457</td>\n",
              "      <td>27341</td>\n",
              "      <td>...</td>\n",
              "      <td>-4.728132</td>\n",
              "      <td>-2.500690</td>\n",
              "      <td>-7.056824</td>\n",
              "      <td>-3.904217</td>\n",
              "      <td>-10.543299</td>\n",
              "      <td>-4.874741</td>\n",
              "      <td>-2.758113</td>\n",
              "      <td>-7.167664</td>\n",
              "      <td>-3.978583</td>\n",
              "      <td>-10.543299</td>\n",
              "    </tr>\n",
              "    <tr>\n",
              "      <th>4</th>\n",
              "      <td>50</td>\n",
              "      <td>3</td>\n",
              "      <td>6</td>\n",
              "      <td>1</td>\n",
              "      <td>7</td>\n",
              "      <td>Alabama</td>\n",
              "      <td>Bibb County</td>\n",
              "      <td>22915</td>\n",
              "      <td>22919</td>\n",
              "      <td>22861</td>\n",
              "      <td>...</td>\n",
              "      <td>-5.527043</td>\n",
              "      <td>-5.068871</td>\n",
              "      <td>-6.201001</td>\n",
              "      <td>-0.177537</td>\n",
              "      <td>0.177258</td>\n",
              "      <td>-5.088389</td>\n",
              "      <td>-4.363636</td>\n",
              "      <td>-5.403729</td>\n",
              "      <td>0.754533</td>\n",
              "      <td>1.107861</td>\n",
              "    </tr>\n",
              "    <tr>\n",
              "      <th>...</th>\n",
              "      <td>...</td>\n",
              "      <td>...</td>\n",
              "      <td>...</td>\n",
              "      <td>...</td>\n",
              "      <td>...</td>\n",
              "      <td>...</td>\n",
              "      <td>...</td>\n",
              "      <td>...</td>\n",
              "      <td>...</td>\n",
              "      <td>...</td>\n",
              "      <td>...</td>\n",
              "      <td>...</td>\n",
              "      <td>...</td>\n",
              "      <td>...</td>\n",
              "      <td>...</td>\n",
              "      <td>...</td>\n",
              "      <td>...</td>\n",
              "      <td>...</td>\n",
              "      <td>...</td>\n",
              "      <td>...</td>\n",
              "      <td>...</td>\n",
              "    </tr>\n",
              "    <tr>\n",
              "      <th>3188</th>\n",
              "      <td>50</td>\n",
              "      <td>4</td>\n",
              "      <td>8</td>\n",
              "      <td>56</td>\n",
              "      <td>37</td>\n",
              "      <td>Wyoming</td>\n",
              "      <td>Sweetwater County</td>\n",
              "      <td>43806</td>\n",
              "      <td>43806</td>\n",
              "      <td>43593</td>\n",
              "      <td>...</td>\n",
              "      <td>1.072643</td>\n",
              "      <td>16.243199</td>\n",
              "      <td>-5.339774</td>\n",
              "      <td>-14.252889</td>\n",
              "      <td>-14.248864</td>\n",
              "      <td>1.255221</td>\n",
              "      <td>16.243199</td>\n",
              "      <td>-5.295460</td>\n",
              "      <td>-14.075283</td>\n",
              "      <td>-14.070195</td>\n",
              "    </tr>\n",
              "    <tr>\n",
              "      <th>3189</th>\n",
              "      <td>50</td>\n",
              "      <td>4</td>\n",
              "      <td>8</td>\n",
              "      <td>56</td>\n",
              "      <td>39</td>\n",
              "      <td>Wyoming</td>\n",
              "      <td>Teton County</td>\n",
              "      <td>21294</td>\n",
              "      <td>21294</td>\n",
              "      <td>21297</td>\n",
              "      <td>...</td>\n",
              "      <td>-1.589565</td>\n",
              "      <td>0.972695</td>\n",
              "      <td>19.525929</td>\n",
              "      <td>14.143021</td>\n",
              "      <td>-0.564849</td>\n",
              "      <td>0.654527</td>\n",
              "      <td>2.408578</td>\n",
              "      <td>21.160658</td>\n",
              "      <td>16.308671</td>\n",
              "      <td>1.520747</td>\n",
              "    </tr>\n",
              "    <tr>\n",
              "      <th>3190</th>\n",
              "      <td>50</td>\n",
              "      <td>4</td>\n",
              "      <td>8</td>\n",
              "      <td>56</td>\n",
              "      <td>41</td>\n",
              "      <td>Wyoming</td>\n",
              "      <td>Uinta County</td>\n",
              "      <td>21118</td>\n",
              "      <td>21118</td>\n",
              "      <td>21102</td>\n",
              "      <td>...</td>\n",
              "      <td>-17.755986</td>\n",
              "      <td>-4.916350</td>\n",
              "      <td>-6.902954</td>\n",
              "      <td>-14.215862</td>\n",
              "      <td>-12.127022</td>\n",
              "      <td>-18.136812</td>\n",
              "      <td>-5.536861</td>\n",
              "      <td>-7.521840</td>\n",
              "      <td>-14.740608</td>\n",
              "      <td>-12.606351</td>\n",
              "    </tr>\n",
              "    <tr>\n",
              "      <th>3191</th>\n",
              "      <td>50</td>\n",
              "      <td>4</td>\n",
              "      <td>8</td>\n",
              "      <td>56</td>\n",
              "      <td>43</td>\n",
              "      <td>Wyoming</td>\n",
              "      <td>Washakie County</td>\n",
              "      <td>8533</td>\n",
              "      <td>8533</td>\n",
              "      <td>8545</td>\n",
              "      <td>...</td>\n",
              "      <td>-11.637475</td>\n",
              "      <td>-0.827815</td>\n",
              "      <td>-2.013502</td>\n",
              "      <td>-17.781491</td>\n",
              "      <td>1.682288</td>\n",
              "      <td>-11.990126</td>\n",
              "      <td>-1.182592</td>\n",
              "      <td>-2.250385</td>\n",
              "      <td>-18.020168</td>\n",
              "      <td>1.441961</td>\n",
              "    </tr>\n",
              "    <tr>\n",
              "      <th>3192</th>\n",
              "      <td>50</td>\n",
              "      <td>4</td>\n",
              "      <td>8</td>\n",
              "      <td>56</td>\n",
              "      <td>45</td>\n",
              "      <td>Wyoming</td>\n",
              "      <td>Weston County</td>\n",
              "      <td>7208</td>\n",
              "      <td>7208</td>\n",
              "      <td>7181</td>\n",
              "      <td>...</td>\n",
              "      <td>-11.752361</td>\n",
              "      <td>-8.040059</td>\n",
              "      <td>12.372583</td>\n",
              "      <td>1.533635</td>\n",
              "      <td>6.935294</td>\n",
              "      <td>-12.032179</td>\n",
              "      <td>-8.040059</td>\n",
              "      <td>12.372583</td>\n",
              "      <td>1.533635</td>\n",
              "      <td>6.935294</td>\n",
              "    </tr>\n",
              "  </tbody>\n",
              "</table>\n",
              "<p>3193 rows × 100 columns</p>\n",
              "</div>\n",
              "      <button class=\"colab-df-convert\" onclick=\"convertToInteractive('df-4c7db18d-9433-44f6-821f-122ace932707')\"\n",
              "              title=\"Convert this dataframe to an interactive table.\"\n",
              "              style=\"display:none;\">\n",
              "        \n",
              "  <svg xmlns=\"http://www.w3.org/2000/svg\" height=\"24px\"viewBox=\"0 0 24 24\"\n",
              "       width=\"24px\">\n",
              "    <path d=\"M0 0h24v24H0V0z\" fill=\"none\"/>\n",
              "    <path d=\"M18.56 5.44l.94 2.06.94-2.06 2.06-.94-2.06-.94-.94-2.06-.94 2.06-2.06.94zm-11 1L8.5 8.5l.94-2.06 2.06-.94-2.06-.94L8.5 2.5l-.94 2.06-2.06.94zm10 10l.94 2.06.94-2.06 2.06-.94-2.06-.94-.94-2.06-.94 2.06-2.06.94z\"/><path d=\"M17.41 7.96l-1.37-1.37c-.4-.4-.92-.59-1.43-.59-.52 0-1.04.2-1.43.59L10.3 9.45l-7.72 7.72c-.78.78-.78 2.05 0 2.83L4 21.41c.39.39.9.59 1.41.59.51 0 1.02-.2 1.41-.59l7.78-7.78 2.81-2.81c.8-.78.8-2.07 0-2.86zM5.41 20L4 18.59l7.72-7.72 1.47 1.35L5.41 20z\"/>\n",
              "  </svg>\n",
              "      </button>\n",
              "      \n",
              "  <style>\n",
              "    .colab-df-container {\n",
              "      display:flex;\n",
              "      flex-wrap:wrap;\n",
              "      gap: 12px;\n",
              "    }\n",
              "\n",
              "    .colab-df-convert {\n",
              "      background-color: #E8F0FE;\n",
              "      border: none;\n",
              "      border-radius: 50%;\n",
              "      cursor: pointer;\n",
              "      display: none;\n",
              "      fill: #1967D2;\n",
              "      height: 32px;\n",
              "      padding: 0 0 0 0;\n",
              "      width: 32px;\n",
              "    }\n",
              "\n",
              "    .colab-df-convert:hover {\n",
              "      background-color: #E2EBFA;\n",
              "      box-shadow: 0px 1px 2px rgba(60, 64, 67, 0.3), 0px 1px 3px 1px rgba(60, 64, 67, 0.15);\n",
              "      fill: #174EA6;\n",
              "    }\n",
              "\n",
              "    [theme=dark] .colab-df-convert {\n",
              "      background-color: #3B4455;\n",
              "      fill: #D2E3FC;\n",
              "    }\n",
              "\n",
              "    [theme=dark] .colab-df-convert:hover {\n",
              "      background-color: #434B5C;\n",
              "      box-shadow: 0px 1px 3px 1px rgba(0, 0, 0, 0.15);\n",
              "      filter: drop-shadow(0px 1px 2px rgba(0, 0, 0, 0.3));\n",
              "      fill: #FFFFFF;\n",
              "    }\n",
              "  </style>\n",
              "\n",
              "      <script>\n",
              "        const buttonEl =\n",
              "          document.querySelector('#df-4c7db18d-9433-44f6-821f-122ace932707 button.colab-df-convert');\n",
              "        buttonEl.style.display =\n",
              "          google.colab.kernel.accessAllowed ? 'block' : 'none';\n",
              "\n",
              "        async function convertToInteractive(key) {\n",
              "          const element = document.querySelector('#df-4c7db18d-9433-44f6-821f-122ace932707');\n",
              "          const dataTable =\n",
              "            await google.colab.kernel.invokeFunction('convertToInteractive',\n",
              "                                                     [key], {});\n",
              "          if (!dataTable) return;\n",
              "\n",
              "          const docLinkHtml = 'Like what you see? Visit the ' +\n",
              "            '<a target=\"_blank\" href=https://colab.research.google.com/notebooks/data_table.ipynb>data table notebook</a>'\n",
              "            + ' to learn more about interactive tables.';\n",
              "          element.innerHTML = '';\n",
              "          dataTable['output_type'] = 'display_data';\n",
              "          await google.colab.output.renderOutput(dataTable, element);\n",
              "          const docLink = document.createElement('div');\n",
              "          docLink.innerHTML = docLinkHtml;\n",
              "          element.appendChild(docLink);\n",
              "        }\n",
              "      </script>\n",
              "    </div>\n",
              "  </div>\n",
              "  "
            ]
          },
          "metadata": {},
          "execution_count": 6
        }
      ]
    },
    {
      "cell_type": "code",
      "source": [
        "x=df.iloc[0:200,2:4].values\n",
        "y=df.iloc[0:200,3].values\n",
        "x\n"
      ],
      "metadata": {
        "colab": {
          "base_uri": "https://localhost:8080/"
        },
        "id": "k-BulqoaWRfv",
        "outputId": "c7b11ed9-7abc-4802-9920-8492ae9af987"
      },
      "execution_count": 78,
      "outputs": [
        {
          "output_type": "execute_result",
          "data": {
            "text/plain": [
              "array([[6, 1],\n",
              "       [6, 1],\n",
              "       [6, 1],\n",
              "       [6, 1],\n",
              "       [6, 1],\n",
              "       [6, 1],\n",
              "       [6, 1],\n",
              "       [6, 1],\n",
              "       [6, 1],\n",
              "       [6, 1],\n",
              "       [6, 1],\n",
              "       [6, 1],\n",
              "       [6, 1],\n",
              "       [6, 1],\n",
              "       [6, 1],\n",
              "       [6, 1],\n",
              "       [6, 1],\n",
              "       [6, 1],\n",
              "       [6, 1],\n",
              "       [6, 1],\n",
              "       [6, 1],\n",
              "       [6, 1],\n",
              "       [6, 1],\n",
              "       [6, 1],\n",
              "       [6, 1],\n",
              "       [6, 1],\n",
              "       [6, 1],\n",
              "       [6, 1],\n",
              "       [6, 1],\n",
              "       [6, 1],\n",
              "       [6, 1],\n",
              "       [6, 1],\n",
              "       [6, 1],\n",
              "       [6, 1],\n",
              "       [6, 1],\n",
              "       [6, 1],\n",
              "       [6, 1],\n",
              "       [6, 1],\n",
              "       [6, 1],\n",
              "       [6, 1],\n",
              "       [6, 1],\n",
              "       [6, 1],\n",
              "       [6, 1],\n",
              "       [6, 1],\n",
              "       [6, 1],\n",
              "       [6, 1],\n",
              "       [6, 1],\n",
              "       [6, 1],\n",
              "       [6, 1],\n",
              "       [6, 1],\n",
              "       [6, 1],\n",
              "       [6, 1],\n",
              "       [6, 1],\n",
              "       [6, 1],\n",
              "       [6, 1],\n",
              "       [6, 1],\n",
              "       [6, 1],\n",
              "       [6, 1],\n",
              "       [6, 1],\n",
              "       [6, 1],\n",
              "       [6, 1],\n",
              "       [6, 1],\n",
              "       [6, 1],\n",
              "       [6, 1],\n",
              "       [6, 1],\n",
              "       [6, 1],\n",
              "       [6, 1],\n",
              "       [6, 1],\n",
              "       [9, 2],\n",
              "       [9, 2],\n",
              "       [9, 2],\n",
              "       [9, 2],\n",
              "       [9, 2],\n",
              "       [9, 2],\n",
              "       [9, 2],\n",
              "       [9, 2],\n",
              "       [9, 2],\n",
              "       [9, 2],\n",
              "       [9, 2],\n",
              "       [9, 2],\n",
              "       [9, 2],\n",
              "       [9, 2],\n",
              "       [9, 2],\n",
              "       [9, 2],\n",
              "       [9, 2],\n",
              "       [9, 2],\n",
              "       [9, 2],\n",
              "       [9, 2],\n",
              "       [9, 2],\n",
              "       [9, 2],\n",
              "       [9, 2],\n",
              "       [9, 2],\n",
              "       [9, 2],\n",
              "       [9, 2],\n",
              "       [9, 2],\n",
              "       [9, 2],\n",
              "       [9, 2],\n",
              "       [9, 2],\n",
              "       [8, 4],\n",
              "       [8, 4],\n",
              "       [8, 4],\n",
              "       [8, 4],\n",
              "       [8, 4],\n",
              "       [8, 4],\n",
              "       [8, 4],\n",
              "       [8, 4],\n",
              "       [8, 4],\n",
              "       [8, 4],\n",
              "       [8, 4],\n",
              "       [8, 4],\n",
              "       [8, 4],\n",
              "       [8, 4],\n",
              "       [8, 4],\n",
              "       [8, 4],\n",
              "       [7, 5],\n",
              "       [7, 5],\n",
              "       [7, 5],\n",
              "       [7, 5],\n",
              "       [7, 5],\n",
              "       [7, 5],\n",
              "       [7, 5],\n",
              "       [7, 5],\n",
              "       [7, 5],\n",
              "       [7, 5],\n",
              "       [7, 5],\n",
              "       [7, 5],\n",
              "       [7, 5],\n",
              "       [7, 5],\n",
              "       [7, 5],\n",
              "       [7, 5],\n",
              "       [7, 5],\n",
              "       [7, 5],\n",
              "       [7, 5],\n",
              "       [7, 5],\n",
              "       [7, 5],\n",
              "       [7, 5],\n",
              "       [7, 5],\n",
              "       [7, 5],\n",
              "       [7, 5],\n",
              "       [7, 5],\n",
              "       [7, 5],\n",
              "       [7, 5],\n",
              "       [7, 5],\n",
              "       [7, 5],\n",
              "       [7, 5],\n",
              "       [7, 5],\n",
              "       [7, 5],\n",
              "       [7, 5],\n",
              "       [7, 5],\n",
              "       [7, 5],\n",
              "       [7, 5],\n",
              "       [7, 5],\n",
              "       [7, 5],\n",
              "       [7, 5],\n",
              "       [7, 5],\n",
              "       [7, 5],\n",
              "       [7, 5],\n",
              "       [7, 5],\n",
              "       [7, 5],\n",
              "       [7, 5],\n",
              "       [7, 5],\n",
              "       [7, 5],\n",
              "       [7, 5],\n",
              "       [7, 5],\n",
              "       [7, 5],\n",
              "       [7, 5],\n",
              "       [7, 5],\n",
              "       [7, 5],\n",
              "       [7, 5],\n",
              "       [7, 5],\n",
              "       [7, 5],\n",
              "       [7, 5],\n",
              "       [7, 5],\n",
              "       [7, 5],\n",
              "       [7, 5],\n",
              "       [7, 5],\n",
              "       [7, 5],\n",
              "       [7, 5],\n",
              "       [7, 5],\n",
              "       [7, 5],\n",
              "       [7, 5],\n",
              "       [7, 5],\n",
              "       [7, 5],\n",
              "       [7, 5],\n",
              "       [7, 5],\n",
              "       [7, 5],\n",
              "       [7, 5],\n",
              "       [7, 5],\n",
              "       [7, 5],\n",
              "       [7, 5],\n",
              "       [9, 6],\n",
              "       [9, 6],\n",
              "       [9, 6],\n",
              "       [9, 6],\n",
              "       [9, 6],\n",
              "       [9, 6],\n",
              "       [9, 6],\n",
              "       [9, 6],\n",
              "       [9, 6],\n",
              "       [9, 6]])"
            ]
          },
          "metadata": {},
          "execution_count": 78
        }
      ]
    },
    {
      "cell_type": "code",
      "source": [
        "import matplotlib.pyplot as plt\n",
        "plt.scatter(df['COUNTY'],df['CENSUS2010POP'])\n",
        "plt.title('Country Vs Population')\n",
        "plt.xlabel('Country')\n",
        "plt.ylabel('Population')"
      ],
      "metadata": {
        "colab": {
          "base_uri": "https://localhost:8080/",
          "height": 312
        },
        "id": "5HSYkAl8cUq7",
        "outputId": "5dac137a-d530-41c8-e220-76cf7aa04e9d"
      },
      "execution_count": 48,
      "outputs": [
        {
          "output_type": "execute_result",
          "data": {
            "text/plain": [
              "Text(0, 0.5, 'Population')"
            ]
          },
          "metadata": {},
          "execution_count": 48
        },
        {
          "output_type": "display_data",
          "data": {
            "text/plain": [
              "<Figure size 432x288 with 1 Axes>"
            ],
            "image/png": "[encoded data removed]"
          },
          "metadata": {
            "needs_background": "light"
          }
        }
      ]
    },
    {
      "cell_type": "code",
      "source": [
        "from sklearn.model_selection import train_test_split\n",
        "x_train,x_test,y_train,y_test=train_test_split(x,y,random_state=0)"
      ],
      "metadata": {
        "id": "1Wt7w8i2XHj2"
      },
      "execution_count": 38,
      "outputs": []
    },
    {
      "cell_type": "code",
      "source": [
        "print(x.shape)\n",
        "print(x_train.shape)\n",
        "print(x_test.shape)\n",
        "print(y.shape)\n",
        "print(y_train.shape)\n",
        "print(y_test.shape)"
      ],
      "metadata": {
        "colab": {
          "base_uri": "https://localhost:8080/"
        },
        "id": "f9FQfNPeXR4b",
        "outputId": "00b3d307-d8d2-48fe-bb3c-c23b9e0e600a"
      },
      "execution_count": 40,
      "outputs": [
        {
          "output_type": "stream",
          "name": "stdout",
          "text": [
            "(200, 2)\n",
            "(150, 2)\n",
            "(50, 2)\n",
            "(200,)\n",
            "(150,)\n",
            "(50,)\n"
          ]
        }
      ]
    },
    {
      "cell_type": "code",
      "source": [
        "'''Normalisation apply only For input ie x'''\n",
        "from sklearn.preprocessing import MinMaxScaler\n",
        "scaler=MinMaxScaler()\n",
        "x_train=scaler.fit_transform(x_train)\n",
        "x_test=scaler.fit_transform(x_test)"
      ],
      "metadata": {
        "id": "SKMoKyN6XUhR"
      },
      "execution_count": 41,
      "outputs": []
    },
    {
      "cell_type": "code",
      "source": [
        "'''Apply regressor| classifer|classification for output y'''\n",
        "from sklearn.linear_model import LogisticRegression\n",
        "model=LogisticRegression()"
      ],
      "metadata": {
        "id": "AR4ZIgQ3XdAf"
      },
      "execution_count": 42,
      "outputs": []
    },
    {
      "cell_type": "code",
      "source": [
        "model.fit(x_train,y_train)\n",
        "LogisticRegression()"
      ],
      "metadata": {
        "colab": {
          "base_uri": "https://localhost:8080/"
        },
        "id": "tFiq63R3XfdP",
        "outputId": "4b1191bc-0425-4e4b-c80d-b0b9d88b840d"
      },
      "execution_count": 43,
      "outputs": [
        {
          "output_type": "execute_result",
          "data": {
            "text/plain": [
              "LogisticRegression()"
            ]
          },
          "metadata": {},
          "execution_count": 43
        }
      ]
    },
    {
      "cell_type": "code",
      "source": [
        "'''expected outputs'''\n",
        "y_pred=model.predict(x_test)\n",
        "y_pred"
      ],
      "metadata": {
        "colab": {
          "base_uri": "https://localhost:8080/"
        },
        "id": "zbzr7F8gXpiJ",
        "outputId": "b6be609a-e067-4211-cb15-8f0c5ee65a84"
      },
      "execution_count": 44,
      "outputs": [
        {
          "output_type": "execute_result",
          "data": {
            "text/plain": [
              "array([1, 5, 5, 5, 5, 5, 1, 5, 1, 5, 1, 5, 5, 5, 2, 1, 1, 5, 1, 2, 5, 5,\n",
              "       1, 5, 1, 5, 5, 5, 5, 1, 1, 1, 5, 5, 1, 5, 5, 1, 2, 5, 5, 1, 1, 5,\n",
              "       5, 1, 1, 2, 5, 5])"
            ]
          },
          "metadata": {},
          "execution_count": 44
        }
      ]
    },
    {
      "cell_type": "code",
      "source": [
        "'''Actual outputs'''\n",
        "y_test"
      ],
      "metadata": {
        "colab": {
          "base_uri": "https://localhost:8080/"
        },
        "id": "CZDviq3LXrwf",
        "outputId": "627580c3-bd06-4075-8be3-90ba1ad19f24"
      },
      "execution_count": 45,
      "outputs": [
        {
          "output_type": "execute_result",
          "data": {
            "text/plain": [
              "array([1, 5, 4, 4, 5, 5, 1, 5, 1, 5, 1, 5, 5, 5, 2, 1, 1, 5, 1, 2, 5, 5,\n",
              "       1, 5, 1, 5, 5, 5, 5, 1, 1, 1, 5, 4, 1, 5, 5, 1, 2, 4, 5, 1, 1, 4,\n",
              "       5, 1, 1, 2, 5, 5])"
            ]
          },
          "metadata": {},
          "execution_count": 45
        }
      ]
    },
    {
      "cell_type": "code",
      "source": [
        "'''Accuracy'''\n",
        "from sklearn.metrics import accuracy_score\n",
        "accuracy_score(y_pred,y_test)*100"
      ],
      "metadata": {
        "colab": {
          "base_uri": "https://localhost:8080/"
        },
        "id": "tJ1gWrFcb7pZ",
        "outputId": "657c74e0-8863-415d-94b4-1f334b9c7bba"
      },
      "execution_count": 47,
      "outputs": [
        {
          "output_type": "execute_result",
          "data": {
            "text/plain": [
              "90.0"
            ]
          },
          "metadata": {},
          "execution_count": 47
        }
      ]
    },
    {
      "cell_type": "code",
      "source": [
        "'''individual prediction'''\n",
        "a=scaler.transform([[7,5]])\n",
        "a"
      ],
      "metadata": {
        "colab": {
          "base_uri": "https://localhost:8080/"
        },
        "id": "paJTFfw7Tapc",
        "outputId": "5ad34bb2-bbab-495b-92ca-26e0d5163eba"
      },
      "execution_count": 52,
      "outputs": [
        {
          "output_type": "execute_result",
          "data": {
            "text/plain": [
              "array([[0.33333333, 1.        ]])"
            ]
          },
          "metadata": {},
          "execution_count": 52
        }
      ]
    },
    {
      "cell_type": "code",
      "source": [
        "model.predict(a)"
      ],
      "metadata": {
        "colab": {
          "base_uri": "https://localhost:8080/"
        },
        "id": "vzuspwSYc3VL",
        "outputId": "a9d81385-b1fe-4add-d926-e9d8b143ad2e"
      },
      "execution_count": 53,
      "outputs": [
        {
          "output_type": "execute_result",
          "data": {
            "text/plain": [
              "array([5])"
            ]
          },
          "metadata": {},
          "execution_count": 53
        }
      ]
    },
    {
      "cell_type": "code",
      "source": [
        "b=scaler.transform([[1,6]])\n",
        "b"
      ],
      "metadata": {
        "colab": {
          "base_uri": "https://localhost:8080/"
        },
        "id": "th3nVIDLbua5",
        "outputId": "d54392db-ed09-4bce-e54f-c9d9d9b2824a"
      },
      "execution_count": 54,
      "outputs": [
        {
          "output_type": "execute_result",
          "data": {
            "text/plain": [
              "array([[-1.66666667,  1.25      ]])"
            ]
          },
          "metadata": {},
          "execution_count": 54
        }
      ]
    },
    {
      "cell_type": "code",
      "source": [
        "model.predict(b)"
      ],
      "metadata": {
        "colab": {
          "base_uri": "https://localhost:8080/"
        },
        "id": "RvlHtqTKdEV4",
        "outputId": "961cc399-136f-4e58-a6f2-04ee4a047683"
      },
      "execution_count": 55,
      "outputs": [
        {
          "output_type": "execute_result",
          "data": {
            "text/plain": [
              "array([5])"
            ]
          },
          "metadata": {},
          "execution_count": 55
        }
      ]
    },
    {
      "cell_type": "code",
      "source": [],
      "metadata": {
        "colab": {
          "base_uri": "https://localhost:8080/"
        },
        "id": "vXuLWxjtfopi",
        "outputId": "76768d52-064c-4980-ae96-e44ad6a4ea47"
      },
      "execution_count": 76,
      "outputs": [
        {
          "output_type": "execute_result",
          "data": {
            "text/plain": [
              "array([], dtype=int64)"
            ]
          },
          "metadata": {},
          "execution_count": 76
        }
      ]
    },
    {
      "cell_type": "markdown",
      "source": [
        "'''USING REGRESSOR'''"
      ],
      "metadata": {
        "id": "KJsDXu5xh4Ia"
      }
    },
    {
      "cell_type": "code",
      "source": [
        "from sklearn.linear_model import LinearRegression\n",
        "model=LinearRegression()"
      ],
      "metadata": {
        "id": "onj8MJhDe3GC"
      },
      "execution_count": 68,
      "outputs": []
    },
    {
      "cell_type": "code",
      "source": [
        "model.fit(x,y)"
      ],
      "metadata": {
        "colab": {
          "base_uri": "https://localhost:8080/"
        },
        "id": "ZmiaxetHgKJO",
        "outputId": "9473062b-adcd-4ac0-dffb-72196461a55d"
      },
      "execution_count": 79,
      "outputs": [
        {
          "output_type": "execute_result",
          "data": {
            "text/plain": [
              "LinearRegression()"
            ]
          },
          "metadata": {},
          "execution_count": 79
        }
      ]
    },
    {
      "cell_type": "code",
      "source": [
        "y_pred=model.predict(x)\n",
        "y_pred"
      ],
      "metadata": {
        "colab": {
          "base_uri": "https://localhost:8080/"
        },
        "id": "S-6LKqdUfJZE",
        "outputId": "3d565f24-a8f3-4497-8664-135c1313c11a"
      },
      "execution_count": 80,
      "outputs": [
        {
          "output_type": "execute_result",
          "data": {
            "text/plain": [
              "array([1., 1., 1., 1., 1., 1., 1., 1., 1., 1., 1., 1., 1., 1., 1., 1., 1.,\n",
              "       1., 1., 1., 1., 1., 1., 1., 1., 1., 1., 1., 1., 1., 1., 1., 1., 1.,\n",
              "       1., 1., 1., 1., 1., 1., 1., 1., 1., 1., 1., 1., 1., 1., 1., 1., 1.,\n",
              "       1., 1., 1., 1., 1., 1., 1., 1., 1., 1., 1., 1., 1., 1., 1., 1., 1.,\n",
              "       2., 2., 2., 2., 2., 2., 2., 2., 2., 2., 2., 2., 2., 2., 2., 2., 2.,\n",
              "       2., 2., 2., 2., 2., 2., 2., 2., 2., 2., 2., 2., 2., 4., 4., 4., 4.,\n",
              "       4., 4., 4., 4., 4., 4., 4., 4., 4., 4., 4., 4., 5., 5., 5., 5., 5.,\n",
              "       5., 5., 5., 5., 5., 5., 5., 5., 5., 5., 5., 5., 5., 5., 5., 5., 5.,\n",
              "       5., 5., 5., 5., 5., 5., 5., 5., 5., 5., 5., 5., 5., 5., 5., 5., 5.,\n",
              "       5., 5., 5., 5., 5., 5., 5., 5., 5., 5., 5., 5., 5., 5., 5., 5., 5.,\n",
              "       5., 5., 5., 5., 5., 5., 5., 5., 5., 5., 5., 5., 5., 5., 5., 5., 5.,\n",
              "       5., 5., 5., 6., 6., 6., 6., 6., 6., 6., 6., 6., 6.])"
            ]
          },
          "metadata": {},
          "execution_count": 80
        }
      ]
    },
    {
      "cell_type": "code",
      "source": [
        "m=model.coef_\n",
        "m"
      ],
      "metadata": {
        "colab": {
          "base_uri": "https://localhost:8080/"
        },
        "id": "EXvUQ5vwd03W",
        "outputId": "8f592adf-857e-4c33-d71c-28c2104c9373"
      },
      "execution_count": 56,
      "outputs": [
        {
          "output_type": "execute_result",
          "data": {
            "text/plain": [
              "array([[-3.11650467, -3.31120734],\n",
              "       [ 2.90003214, -2.44546028],\n",
              "       [ 0.60582779,  0.27015304],\n",
              "       [-2.68203861,  3.10408839],\n",
              "       [ 2.29268335,  2.38242619]])"
            ]
          },
          "metadata": {},
          "execution_count": 56
        }
      ]
    },
    {
      "cell_type": "code",
      "source": [
        "c=model.intercept_\n",
        "c"
      ],
      "metadata": {
        "colab": {
          "base_uri": "https://localhost:8080/"
        },
        "id": "1llAfZ2Kd8u1",
        "outputId": "77bb1bb7-7246-4030-8f2b-a7f1d84aacbf"
      },
      "execution_count": 58,
      "outputs": [
        {
          "output_type": "execute_result",
          "data": {
            "text/plain": [
              "array([ 3.31481808, -0.25615258, -0.52464483,  0.67079762, -3.20481828])"
            ]
          },
          "metadata": {},
          "execution_count": 58
        }
      ]
    },
    {
      "cell_type": "markdown",
      "source": [],
      "metadata": {
        "id": "TL2hm01wh0Gz"
      }
    },
    {
      "cell_type": "code",
      "source": [
        "import pandas as pd\n",
        "df=pd.read_csv('/content/census.csv')\n",
        "df.size\n",
        "df.shape\n",
        "df.info\n",
        "df.isnull().sum()\n",
        "df=df.dropna()"
      ],
      "metadata": {
        "id": "yVUFGJN7h8kC"
      },
      "execution_count": 91,
      "outputs": []
    }
  ]
}